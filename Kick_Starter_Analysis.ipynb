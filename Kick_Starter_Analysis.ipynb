{
 "cells": [
  {
   "cell_type": "markdown",
   "metadata": {},
   "source": [
    "# Kick Starter Analysis \n",
    "Nicklaus Porter"
   ]
  },
  {
   "cell_type": "markdown",
   "metadata": {},
   "source": [
    "---"
   ]
  },
  {
   "cell_type": "markdown",
   "metadata": {},
   "source": [
    "# Index: \n",
    "Section 1: Background\n",
    "\n",
    "Section 2: Data Cleaning and Feature Analysis \n",
    "\n",
    "Section 3: Exploratory Data Analysis \n",
    "\n",
    "Section 4: Comparing Predictive Models\n",
    "\n",
    "Section 5: Logistic Regression Model"
   ]
  },
  {
   "cell_type": "markdown",
   "metadata": {},
   "source": [
    "---"
   ]
  },
  {
   "cell_type": "markdown",
   "metadata": {},
   "source": [
    "# Section 1: Background"
   ]
  },
  {
   "cell_type": "markdown",
   "metadata": {},
   "source": [
    "---"
   ]
  },
  {
   "cell_type": "markdown",
   "metadata": {},
   "source": [
    "Hi! My name is Nick. This is my first data project posted online. \n",
    "I obtained this dataset at Kaggle.com. The data seemed fun to work with as it shows the outcomes of kickstart projects. After looking at it I wanted to analyze and determine if we could predict a kick starter projects outcome. When I started with the data it had 378,661 projects. My idea for this project was to help Kickstarter projects become successful. I decided to drop projects that had empty values because there were only a few hundred of them and it would not significantly effect testing. I decided to just look at the U.S. dollar amount as it is the standard in my home country and it contained the most information. When I was picking this data set I knew I would be able to make great predictive models and really pretty visuals. The date ranges are from 2009-2017. I used the start and end date in order to calculate campaign duration. I also used the goal and pledged amount to calculate the total missed amount.I really enjoyed this project and hope you enjoy it as well.  "
   ]
  },
  {
   "cell_type": "markdown",
   "metadata": {},
   "source": [
    "---"
   ]
  },
  {
   "cell_type": "markdown",
   "metadata": {},
   "source": [
    "# Section 2: Data Cleaning and Feature Engineering"
   ]
  },
  {
   "cell_type": "markdown",
   "metadata": {},
   "source": [
    "---"
   ]
  },
  {
   "cell_type": "markdown",
   "metadata": {},
   "source": [
    "### 2.1: Packages and Data Import"
   ]
  },
  {
   "cell_type": "markdown",
   "metadata": {},
   "source": [
    "---"
   ]
  },
  {
   "cell_type": "code",
   "execution_count": 1,
   "metadata": {},
   "outputs": [],
   "source": [
    "import pandas as pd\n",
    "import numpy as np \n",
    "from datetime import datetime\n",
    "import time\n",
    "date_format = \"%m/%d/%Y\"\n",
    "data = pd.read_csv(\"ks-projects-201801.csv\")"
   ]
  },
  {
   "cell_type": "markdown",
   "metadata": {},
   "source": [
    "###  2.2: Initial Cleaning"
   ]
  },
  {
   "cell_type": "markdown",
   "metadata": {},
   "source": [
    "---"
   ]
  },
  {
   "cell_type": "markdown",
   "metadata": {},
   "source": [
    "2.2.1: This is my initial renaming of columns, filling empty pledge amounts to 0 and dropping Projects with missing data. I dropped these projects because there were only a few hundred of them. \n",
    "\n",
    "2.2.2: Changed the type of the categorial data to a Category."
   ]
  },
  {
   "cell_type": "code",
   "execution_count": 2,
   "metadata": {},
   "outputs": [],
   "source": [
    "#2.2.1\n",
    "data.columns = ['ID','Name', 'Category', 'Main_Category', 'Currency', 'Deadline','Goal', 'Launched', 'Pledged', 'State', 'Backers', 'Country','USD_Pledged', 'USD_Pledged_Real', 'USD_Goal_Real']\n",
    "data.USD_Pledged = data.USD_Pledged.fillna(0)\n",
    "data = data.dropna(how = 'any')\n",
    "\n",
    "#2.2.2\n",
    "data.Main_Category = data.Main_Category.astype('category')\n",
    "data.Category = data.Category.astype('category')\n",
    "\n"
   ]
  },
  {
   "cell_type": "markdown",
   "metadata": {},
   "source": [
    "---"
   ]
  },
  {
   "cell_type": "markdown",
   "metadata": {},
   "source": [
    "### 2.3:  New Column Creation"
   ]
  },
  {
   "cell_type": "markdown",
   "metadata": {},
   "source": [
    "---"
   ]
  },
  {
   "cell_type": "markdown",
   "metadata": {},
   "source": [
    "2.3.1: I created a new column that showed the USD amount that projects were missed by. I also turned the negative data(Created by successful projects) to 0.\n",
    "\n",
    "2.3.2: I converted the Launched and Deadline amounts to Datetime and Created a new column for the length of each campaign \n",
    "\n",
    "2.3.3: For this data I determined that if a project was canceled, suspeneded or not complete, I would determine it to be a failure. I also chose to exclude projects that are currently live."
   ]
  },
  {
   "cell_type": "code",
   "execution_count": 3,
   "metadata": {},
   "outputs": [],
   "source": [
    "#2.3.1\n",
    "result = data.USD_Goal_Real - data.USD_Pledged_Real\n",
    "data[\"Goal_Missed_AMT\"] = result\n",
    "num = data._get_numeric_data()\n",
    "num[num < 0] = 0\n",
    "\n",
    "#2.3.2\n",
    "data['Launched'] = pd.to_datetime(data['Launched'])\n",
    "data['Deadline'] = pd.to_datetime(data['Deadline'])\n",
    "result1 = data['Deadline'] - data['Launched']\n",
    "data['Campaign_Length_Days'] = result1\n",
    "data['Campaign_Length_Days'] = [i.days for i in data['Campaign_Length_Days']]\n",
    "\n",
    "#2.3.3\n",
    "data[\"Outcome\"] = data['State']\n",
    "data[\"Outcome\"] = data[\"Outcome\"].replace('canceled', 'failed').replace('suspended', 'failed').replace('undefined','failed')\n",
    "data = data[data.Outcome !='live']\n"
   ]
  },
  {
   "cell_type": "markdown",
   "metadata": {},
   "source": [
    "### 2.4 Final Data Parameters"
   ]
  },
  {
   "cell_type": "markdown",
   "metadata": {},
   "source": [
    "---"
   ]
  },
  {
   "cell_type": "markdown",
   "metadata": {},
   "source": [
    "2.4.1: This is the list of columns I dropped. I already ahd a new pledged amount and determined the best way to view the data was in U.S. Dollars.\n",
    "\n",
    "2.4.2: Setting a time range for my dataset. I decided to set the start and end date as such becuase there are only a few hundred projects outside these ranges. Some of the dates were 1970 and if the date was incorrect I didnt want to trust the rest of the data. \n"
   ]
  },
  {
   "cell_type": "code",
   "execution_count": 4,
   "metadata": {},
   "outputs": [],
   "source": [
    "\n",
    "#2.4.1\n",
    "data = data.drop([\"ID\",\"Name\",\"State\",\"Goal\",\"USD_Pledged\",\"Pledged\",\"Currency\"], axis = 1)\n",
    "data.columns = ['SubCategory','Category', 'Deadline','Launched_Date','Backers','Country','Pledged','Goal','Amount_Missed','Duration_Days','Outcome']\n",
    "#2.4.2\n",
    "start_date= pd.to_datetime('01-01-2009')\n",
    "end_date = pd.to_datetime('01-01-2018')\n",
    "data = data[(data['Launched_Date']>start_date) & (data['Deadline'] < end_date)] \n"
   ]
  },
  {
   "cell_type": "markdown",
   "metadata": {},
   "source": [
    "----"
   ]
  },
  {
   "cell_type": "markdown",
   "metadata": {},
   "source": [
    "# Section 3: Exploratory Data Analysis"
   ]
  },
  {
   "cell_type": "markdown",
   "metadata": {},
   "source": [
    "---"
   ]
  },
  {
   "cell_type": "markdown",
   "metadata": {},
   "source": [
    "### 3.1: Introduction"
   ]
  },
  {
   "cell_type": "markdown",
   "metadata": {},
   "source": [
    "---"
   ]
  },
  {
   "cell_type": "code",
   "execution_count": 30,
   "metadata": {
    "scrolled": true
   },
   "outputs": [
    {
     "name": "stdout",
     "output_type": "stream",
     "text": [
      "We will be exploring 375371 Kickstarter Projects!\n",
      "Each project has 12 columns.\n",
      "The columns are: SubCategory, Category, Deadline, Launched_Date, Backers, Country, Pledged, Goal, Amount_Missed, Duration_Days, Outcome, Year .\n",
      "The first project in this set launched on 2009-04-21 and the deadline for the last project was 2017-12-31 .\n",
      "Each project can be sorted into 1 of 15 Categories.\n",
      "The main 15 Categories are comprised of 159 Sub-Categories.\n",
      "There are 133870 Successful Projects.\n",
      "There are 241501 Unsuccessful Projects \n",
      "The number of projects with backers is 320422 \n",
      "The number of projects without backers is 54949\n"
     ]
    }
   ],
   "source": [
    "#\n",
    "print'We will be exploring', len(data.index), 'Kickstarter Projects!\\nEach project has',len(data.columns), 'columns.\\nThe columns are:', \"%s\" % (', '.join(data.columns)),'.\\nThe first project in this set launched on', (data.Launched_Date.min().date()), \"and the deadline for the last project was\", (data.Deadline.max().date()),'.\\nEach project can be sorted into 1 of',len(data.Category.unique()),'Categories.\\nThe main',len(data.Category.unique()),'Categories are comprised of',len(data.SubCategory.unique()),'Sub-Categories.\\nThere are',sum(data.Outcome=='successful'), \"Successful Projects.\\nThere are\",sum(data.Outcome=='failed'),'Unsuccessful Projects',\"\\nThe number of projects with backers is\",sum(data.Backers>0), \"\\nThe number of projects without backers is\", sum(data.Backers==0)\n",
    "# \n",
    "\n"
   ]
  },
  {
   "cell_type": "markdown",
   "metadata": {},
   "source": [
    "###  3.2: importing packages"
   ]
  },
  {
   "cell_type": "markdown",
   "metadata": {},
   "source": [
    "---"
   ]
  },
  {
   "cell_type": "code",
   "execution_count": 6,
   "metadata": {},
   "outputs": [],
   "source": [
    "from matplotlib import pyplot as plt\n",
    "import seaborn as sns\n",
    "%matplotlib inline\n",
    "import warnings\n",
    "warnings.filterwarnings('ignore')"
   ]
  },
  {
   "cell_type": "markdown",
   "metadata": {},
   "source": [
    "### 3.3: Data Exploraton"
   ]
  },
  {
   "cell_type": "markdown",
   "metadata": {},
   "source": [
    "---"
   ]
  },
  {
   "cell_type": "code",
   "execution_count": 7,
   "metadata": {},
   "outputs": [
    {
     "data": {
      "text/html": [
       "<div>\n",
       "<style scoped>\n",
       "    .dataframe tbody tr th:only-of-type {\n",
       "        vertical-align: middle;\n",
       "    }\n",
       "\n",
       "    .dataframe tbody tr th {\n",
       "        vertical-align: top;\n",
       "    }\n",
       "\n",
       "    .dataframe thead th {\n",
       "        text-align: right;\n",
       "    }\n",
       "</style>\n",
       "<table border=\"1\" class=\"dataframe\">\n",
       "  <thead>\n",
       "    <tr style=\"text-align: right;\">\n",
       "      <th></th>\n",
       "      <th>SubCategory</th>\n",
       "      <th>Category</th>\n",
       "      <th>Deadline</th>\n",
       "      <th>Launched_Date</th>\n",
       "      <th>Backers</th>\n",
       "      <th>Country</th>\n",
       "      <th>Pledged</th>\n",
       "      <th>Goal</th>\n",
       "      <th>Amount_Missed</th>\n",
       "      <th>Duration_Days</th>\n",
       "      <th>Outcome</th>\n",
       "      <th>Year</th>\n",
       "    </tr>\n",
       "  </thead>\n",
       "  <tbody>\n",
       "    <tr>\n",
       "      <th>0</th>\n",
       "      <td>Poetry</td>\n",
       "      <td>Publishing</td>\n",
       "      <td>2015-10-09</td>\n",
       "      <td>2015-08-11 12:12:28</td>\n",
       "      <td>0</td>\n",
       "      <td>GB</td>\n",
       "      <td>0.0</td>\n",
       "      <td>1533.95</td>\n",
       "      <td>1533.95</td>\n",
       "      <td>58</td>\n",
       "      <td>failed</td>\n",
       "      <td>2015</td>\n",
       "    </tr>\n",
       "    <tr>\n",
       "      <th>1</th>\n",
       "      <td>Narrative Film</td>\n",
       "      <td>Film &amp; Video</td>\n",
       "      <td>2017-11-01</td>\n",
       "      <td>2017-09-02 04:43:57</td>\n",
       "      <td>15</td>\n",
       "      <td>US</td>\n",
       "      <td>2421.0</td>\n",
       "      <td>30000.00</td>\n",
       "      <td>27579.00</td>\n",
       "      <td>59</td>\n",
       "      <td>failed</td>\n",
       "      <td>2017</td>\n",
       "    </tr>\n",
       "    <tr>\n",
       "      <th>2</th>\n",
       "      <td>Narrative Film</td>\n",
       "      <td>Film &amp; Video</td>\n",
       "      <td>2013-02-26</td>\n",
       "      <td>2013-01-12 00:20:50</td>\n",
       "      <td>3</td>\n",
       "      <td>US</td>\n",
       "      <td>220.0</td>\n",
       "      <td>45000.00</td>\n",
       "      <td>44780.00</td>\n",
       "      <td>44</td>\n",
       "      <td>failed</td>\n",
       "      <td>2013</td>\n",
       "    </tr>\n",
       "    <tr>\n",
       "      <th>3</th>\n",
       "      <td>Music</td>\n",
       "      <td>Music</td>\n",
       "      <td>2012-04-16</td>\n",
       "      <td>2012-03-17 03:24:11</td>\n",
       "      <td>1</td>\n",
       "      <td>US</td>\n",
       "      <td>1.0</td>\n",
       "      <td>5000.00</td>\n",
       "      <td>4999.00</td>\n",
       "      <td>29</td>\n",
       "      <td>failed</td>\n",
       "      <td>2012</td>\n",
       "    </tr>\n",
       "    <tr>\n",
       "      <th>4</th>\n",
       "      <td>Film &amp; Video</td>\n",
       "      <td>Film &amp; Video</td>\n",
       "      <td>2015-08-29</td>\n",
       "      <td>2015-07-04 08:35:03</td>\n",
       "      <td>14</td>\n",
       "      <td>US</td>\n",
       "      <td>1283.0</td>\n",
       "      <td>19500.00</td>\n",
       "      <td>18217.00</td>\n",
       "      <td>55</td>\n",
       "      <td>failed</td>\n",
       "      <td>2015</td>\n",
       "    </tr>\n",
       "  </tbody>\n",
       "</table>\n",
       "</div>"
      ],
      "text/plain": [
       "      SubCategory      Category   Deadline       Launched_Date  Backers  \\\n",
       "0          Poetry    Publishing 2015-10-09 2015-08-11 12:12:28        0   \n",
       "1  Narrative Film  Film & Video 2017-11-01 2017-09-02 04:43:57       15   \n",
       "2  Narrative Film  Film & Video 2013-02-26 2013-01-12 00:20:50        3   \n",
       "3           Music         Music 2012-04-16 2012-03-17 03:24:11        1   \n",
       "4    Film & Video  Film & Video 2015-08-29 2015-07-04 08:35:03       14   \n",
       "\n",
       "  Country  Pledged      Goal  Amount_Missed  Duration_Days Outcome  Year  \n",
       "0      GB      0.0   1533.95        1533.95             58  failed  2015  \n",
       "1      US   2421.0  30000.00       27579.00             59  failed  2017  \n",
       "2      US    220.0  45000.00       44780.00             44  failed  2013  \n",
       "3      US      1.0   5000.00        4999.00             29  failed  2012  \n",
       "4      US   1283.0  19500.00       18217.00             55  failed  2015  "
      ]
     },
     "execution_count": 7,
     "metadata": {},
     "output_type": "execute_result"
    }
   ],
   "source": [
    "df1 = data\n",
    "df1['Year'] = df1['Launched_Date'].dt.year\n",
    "df1.head()"
   ]
  },
  {
   "cell_type": "code",
   "execution_count": 8,
   "metadata": {},
   "outputs": [
    {
     "name": "stdout",
     "output_type": "stream",
     "text": [
      "There were 133870 projects and 241501 unsuccessful projects.\n"
     ]
    }
   ],
   "source": [
    "print 'There were',sum(df1.Outcome=='successful'),'projects and',sum(df1.Outcome=='failed'), 'unsuccessful projects.'"
   ]
  },
  {
   "cell_type": "code",
   "execution_count": 9,
   "metadata": {},
   "outputs": [
    {
     "data": {
      "text/plain": [
       "Goal             45314.109410\n",
       "Pledged           9089.947809\n",
       "Amount_Missed    40967.297214\n",
       "Duration_Days       33.156451\n",
       "Backers            105.978227\n",
       "dtype: float64"
      ]
     },
     "execution_count": 9,
     "metadata": {},
     "output_type": "execute_result"
    }
   ],
   "source": [
    "df1[['Goal','Pledged','Amount_Missed', 'Duration_Days', 'Backers']].mean()"
   ]
  },
  {
   "cell_type": "code",
   "execution_count": 10,
   "metadata": {},
   "outputs": [
    {
     "data": {
      "text/html": [
       "<div>\n",
       "<style scoped>\n",
       "    .dataframe tbody tr th:only-of-type {\n",
       "        vertical-align: middle;\n",
       "    }\n",
       "\n",
       "    .dataframe tbody tr th {\n",
       "        vertical-align: top;\n",
       "    }\n",
       "\n",
       "    .dataframe thead th {\n",
       "        text-align: right;\n",
       "    }\n",
       "</style>\n",
       "<table border=\"1\" class=\"dataframe\">\n",
       "  <thead>\n",
       "    <tr style=\"text-align: right;\">\n",
       "      <th></th>\n",
       "      <th>Goal</th>\n",
       "      <th>Pledged</th>\n",
       "      <th>Amount_Missed</th>\n",
       "      <th>Duration_Days</th>\n",
       "      <th>Backers</th>\n",
       "    </tr>\n",
       "    <tr>\n",
       "      <th>Outcome</th>\n",
       "      <th></th>\n",
       "      <th></th>\n",
       "      <th></th>\n",
       "      <th></th>\n",
       "      <th></th>\n",
       "    </tr>\n",
       "  </thead>\n",
       "  <tbody>\n",
       "    <tr>\n",
       "      <th>failed</th>\n",
       "      <td>65148.593142</td>\n",
       "      <td>1558.938352</td>\n",
       "      <td>63676.464766</td>\n",
       "      <td>34.265833</td>\n",
       "      <td>18.40033</td>\n",
       "    </tr>\n",
       "    <tr>\n",
       "      <th>successful</th>\n",
       "      <td>9532.771876</td>\n",
       "      <td>22675.861866</td>\n",
       "      <td>0.040374</td>\n",
       "      <td>31.155128</td>\n",
       "      <td>263.96844</td>\n",
       "    </tr>\n",
       "  </tbody>\n",
       "</table>\n",
       "</div>"
      ],
      "text/plain": [
       "                    Goal       Pledged  Amount_Missed  Duration_Days  \\\n",
       "Outcome                                                                \n",
       "failed      65148.593142   1558.938352   63676.464766      34.265833   \n",
       "successful   9532.771876  22675.861866       0.040374      31.155128   \n",
       "\n",
       "              Backers  \n",
       "Outcome                \n",
       "failed       18.40033  \n",
       "successful  263.96844  "
      ]
     },
     "execution_count": 10,
     "metadata": {},
     "output_type": "execute_result"
    }
   ],
   "source": [
    "df1.groupby('Outcome')[['Goal','Pledged','Amount_Missed', 'Duration_Days', 'Backers']].mean()"
   ]
  },
  {
   "cell_type": "code",
   "execution_count": 11,
   "metadata": {
    "scrolled": false
   },
   "outputs": [
    {
     "data": {
      "text/html": [
       "<div>\n",
       "<style scoped>\n",
       "    .dataframe tbody tr th:only-of-type {\n",
       "        vertical-align: middle;\n",
       "    }\n",
       "\n",
       "    .dataframe tbody tr th {\n",
       "        vertical-align: top;\n",
       "    }\n",
       "\n",
       "    .dataframe thead th {\n",
       "        text-align: right;\n",
       "    }\n",
       "</style>\n",
       "<table border=\"1\" class=\"dataframe\">\n",
       "  <thead>\n",
       "    <tr style=\"text-align: right;\">\n",
       "      <th></th>\n",
       "      <th></th>\n",
       "      <th>Goal</th>\n",
       "      <th>Pledged</th>\n",
       "      <th>Amount_Missed</th>\n",
       "      <th>Duration_Days</th>\n",
       "      <th>Backers</th>\n",
       "    </tr>\n",
       "    <tr>\n",
       "      <th>Year</th>\n",
       "      <th>Outcome</th>\n",
       "      <th></th>\n",
       "      <th></th>\n",
       "      <th></th>\n",
       "      <th></th>\n",
       "      <th></th>\n",
       "    </tr>\n",
       "  </thead>\n",
       "  <tbody>\n",
       "    <tr>\n",
       "      <th rowspan=\"2\" valign=\"top\">2009</th>\n",
       "      <th>failed</th>\n",
       "      <td>9714.225907</td>\n",
       "      <td>421.110760</td>\n",
       "      <td>9293.848480</td>\n",
       "      <td>62.770667</td>\n",
       "      <td>7.116000</td>\n",
       "    </tr>\n",
       "    <tr>\n",
       "      <th>successful</th>\n",
       "      <td>3626.642193</td>\n",
       "      <td>4369.029430</td>\n",
       "      <td>0.000000</td>\n",
       "      <td>53.172712</td>\n",
       "      <td>66.357513</td>\n",
       "    </tr>\n",
       "    <tr>\n",
       "      <th rowspan=\"2\" valign=\"top\">2010</th>\n",
       "      <th>failed</th>\n",
       "      <td>20008.863248</td>\n",
       "      <td>572.926443</td>\n",
       "      <td>19436.293370</td>\n",
       "      <td>49.092643</td>\n",
       "      <td>8.525481</td>\n",
       "    </tr>\n",
       "    <tr>\n",
       "      <th>successful</th>\n",
       "      <td>4402.669068</td>\n",
       "      <td>5674.528820</td>\n",
       "      <td>0.000150</td>\n",
       "      <td>43.184193</td>\n",
       "      <td>77.586109</td>\n",
       "    </tr>\n",
       "    <tr>\n",
       "      <th rowspan=\"2\" valign=\"top\">2011</th>\n",
       "      <th>failed</th>\n",
       "      <td>18622.723720</td>\n",
       "      <td>821.416416</td>\n",
       "      <td>17805.309954</td>\n",
       "      <td>42.324707</td>\n",
       "      <td>11.362673</td>\n",
       "    </tr>\n",
       "    <tr>\n",
       "      <th>successful</th>\n",
       "      <td>5289.337170</td>\n",
       "      <td>7575.314426</td>\n",
       "      <td>0.000000</td>\n",
       "      <td>36.729110</td>\n",
       "      <td>101.606442</td>\n",
       "    </tr>\n",
       "    <tr>\n",
       "      <th rowspan=\"2\" valign=\"top\">2012</th>\n",
       "      <th>failed</th>\n",
       "      <td>28798.998231</td>\n",
       "      <td>1546.630510</td>\n",
       "      <td>27262.619751</td>\n",
       "      <td>34.300632</td>\n",
       "      <td>20.750118</td>\n",
       "    </tr>\n",
       "    <tr>\n",
       "      <th>successful</th>\n",
       "      <td>8494.079400</td>\n",
       "      <td>16010.497731</td>\n",
       "      <td>0.000017</td>\n",
       "      <td>30.969931</td>\n",
       "      <td>215.789012</td>\n",
       "    </tr>\n",
       "    <tr>\n",
       "      <th rowspan=\"2\" valign=\"top\">2013</th>\n",
       "      <th>failed</th>\n",
       "      <td>40124.059909</td>\n",
       "      <td>2316.711616</td>\n",
       "      <td>37847.214532</td>\n",
       "      <td>32.661621</td>\n",
       "      <td>29.437058</td>\n",
       "    </tr>\n",
       "    <tr>\n",
       "      <th>successful</th>\n",
       "      <td>10995.688904</td>\n",
       "      <td>21612.817378</td>\n",
       "      <td>0.000000</td>\n",
       "      <td>29.925470</td>\n",
       "      <td>285.542467</td>\n",
       "    </tr>\n",
       "    <tr>\n",
       "      <th rowspan=\"2\" valign=\"top\">2014</th>\n",
       "      <th>failed</th>\n",
       "      <td>67787.903458</td>\n",
       "      <td>1611.705500</td>\n",
       "      <td>66249.484790</td>\n",
       "      <td>32.971482</td>\n",
       "      <td>18.540675</td>\n",
       "    </tr>\n",
       "    <tr>\n",
       "      <th>successful</th>\n",
       "      <td>10091.499614</td>\n",
       "      <td>21295.500659</td>\n",
       "      <td>0.000000</td>\n",
       "      <td>29.858388</td>\n",
       "      <td>252.516985</td>\n",
       "    </tr>\n",
       "    <tr>\n",
       "      <th rowspan=\"2\" valign=\"top\">2015</th>\n",
       "      <th>failed</th>\n",
       "      <td>97452.831877</td>\n",
       "      <td>1431.917431</td>\n",
       "      <td>96166.249039</td>\n",
       "      <td>33.500399</td>\n",
       "      <td>15.081983</td>\n",
       "    </tr>\n",
       "    <tr>\n",
       "      <th>successful</th>\n",
       "      <td>11137.532161</td>\n",
       "      <td>28939.497227</td>\n",
       "      <td>0.251967</td>\n",
       "      <td>30.188022</td>\n",
       "      <td>317.700873</td>\n",
       "    </tr>\n",
       "    <tr>\n",
       "      <th rowspan=\"2\" valign=\"top\">2016</th>\n",
       "      <th>failed</th>\n",
       "      <td>82991.687167</td>\n",
       "      <td>1648.817174</td>\n",
       "      <td>81469.489787</td>\n",
       "      <td>33.491605</td>\n",
       "      <td>18.875023</td>\n",
       "    </tr>\n",
       "    <tr>\n",
       "      <th>successful</th>\n",
       "      <td>10657.287063</td>\n",
       "      <td>31631.866021</td>\n",
       "      <td>0.006390</td>\n",
       "      <td>30.016200</td>\n",
       "      <td>342.292710</td>\n",
       "    </tr>\n",
       "    <tr>\n",
       "      <th rowspan=\"2\" valign=\"top\">2017</th>\n",
       "      <th>failed</th>\n",
       "      <td>59204.070416</td>\n",
       "      <td>1536.856601</td>\n",
       "      <td>57771.042195</td>\n",
       "      <td>32.656125</td>\n",
       "      <td>18.162075</td>\n",
       "    </tr>\n",
       "    <tr>\n",
       "      <th>successful</th>\n",
       "      <td>9655.848740</td>\n",
       "      <td>30407.874180</td>\n",
       "      <td>0.000000</td>\n",
       "      <td>28.998694</td>\n",
       "      <td>320.280747</td>\n",
       "    </tr>\n",
       "  </tbody>\n",
       "</table>\n",
       "</div>"
      ],
      "text/plain": [
       "                         Goal       Pledged  Amount_Missed  Duration_Days  \\\n",
       "Year Outcome                                                                \n",
       "2009 failed       9714.225907    421.110760    9293.848480      62.770667   \n",
       "     successful   3626.642193   4369.029430       0.000000      53.172712   \n",
       "2010 failed      20008.863248    572.926443   19436.293370      49.092643   \n",
       "     successful   4402.669068   5674.528820       0.000150      43.184193   \n",
       "2011 failed      18622.723720    821.416416   17805.309954      42.324707   \n",
       "     successful   5289.337170   7575.314426       0.000000      36.729110   \n",
       "2012 failed      28798.998231   1546.630510   27262.619751      34.300632   \n",
       "     successful   8494.079400  16010.497731       0.000017      30.969931   \n",
       "2013 failed      40124.059909   2316.711616   37847.214532      32.661621   \n",
       "     successful  10995.688904  21612.817378       0.000000      29.925470   \n",
       "2014 failed      67787.903458   1611.705500   66249.484790      32.971482   \n",
       "     successful  10091.499614  21295.500659       0.000000      29.858388   \n",
       "2015 failed      97452.831877   1431.917431   96166.249039      33.500399   \n",
       "     successful  11137.532161  28939.497227       0.251967      30.188022   \n",
       "2016 failed      82991.687167   1648.817174   81469.489787      33.491605   \n",
       "     successful  10657.287063  31631.866021       0.006390      30.016200   \n",
       "2017 failed      59204.070416   1536.856601   57771.042195      32.656125   \n",
       "     successful   9655.848740  30407.874180       0.000000      28.998694   \n",
       "\n",
       "                    Backers  \n",
       "Year Outcome                 \n",
       "2009 failed        7.116000  \n",
       "     successful   66.357513  \n",
       "2010 failed        8.525481  \n",
       "     successful   77.586109  \n",
       "2011 failed       11.362673  \n",
       "     successful  101.606442  \n",
       "2012 failed       20.750118  \n",
       "     successful  215.789012  \n",
       "2013 failed       29.437058  \n",
       "     successful  285.542467  \n",
       "2014 failed       18.540675  \n",
       "     successful  252.516985  \n",
       "2015 failed       15.081983  \n",
       "     successful  317.700873  \n",
       "2016 failed       18.875023  \n",
       "     successful  342.292710  \n",
       "2017 failed       18.162075  \n",
       "     successful  320.280747  "
      ]
     },
     "execution_count": 11,
     "metadata": {},
     "output_type": "execute_result"
    }
   ],
   "source": [
    "df1.groupby(['Year','Outcome'])[['Goal','Pledged','Amount_Missed','Duration_Days', 'Backers']].mean()"
   ]
  },
  {
   "cell_type": "code",
   "execution_count": 12,
   "metadata": {
    "scrolled": false
   },
   "outputs": [
    {
     "data": {
      "text/html": [
       "<div>\n",
       "<style scoped>\n",
       "    .dataframe tbody tr th:only-of-type {\n",
       "        vertical-align: middle;\n",
       "    }\n",
       "\n",
       "    .dataframe tbody tr th {\n",
       "        vertical-align: top;\n",
       "    }\n",
       "\n",
       "    .dataframe thead th {\n",
       "        text-align: right;\n",
       "    }\n",
       "</style>\n",
       "<table border=\"1\" class=\"dataframe\">\n",
       "  <thead>\n",
       "    <tr style=\"text-align: right;\">\n",
       "      <th></th>\n",
       "      <th></th>\n",
       "      <th>Goal</th>\n",
       "      <th>Pledged</th>\n",
       "      <th>Amount_Missed</th>\n",
       "      <th>Duration_Days</th>\n",
       "      <th>Backers</th>\n",
       "    </tr>\n",
       "    <tr>\n",
       "      <th>Category</th>\n",
       "      <th>Outcome</th>\n",
       "      <th></th>\n",
       "      <th></th>\n",
       "      <th></th>\n",
       "      <th></th>\n",
       "      <th></th>\n",
       "    </tr>\n",
       "  </thead>\n",
       "  <tbody>\n",
       "    <tr>\n",
       "      <th rowspan=\"2\" valign=\"top\">Art</th>\n",
       "      <th>failed</th>\n",
       "      <td>63887.050373</td>\n",
       "      <td>606.664164</td>\n",
       "      <td>63282.724397</td>\n",
       "      <td>33.156248</td>\n",
       "      <td>8.632723</td>\n",
       "    </tr>\n",
       "    <tr>\n",
       "      <th>successful</th>\n",
       "      <td>4411.767481</td>\n",
       "      <td>6974.563004</td>\n",
       "      <td>0.000057</td>\n",
       "      <td>29.338666</td>\n",
       "      <td>90.378141</td>\n",
       "    </tr>\n",
       "    <tr>\n",
       "      <th rowspan=\"2\" valign=\"top\">Comics</th>\n",
       "      <th>failed</th>\n",
       "      <td>36739.180270</td>\n",
       "      <td>985.646074</td>\n",
       "      <td>35759.018730</td>\n",
       "      <td>35.756900</td>\n",
       "      <td>20.881415</td>\n",
       "    </tr>\n",
       "    <tr>\n",
       "      <th>successful</th>\n",
       "      <td>5400.554365</td>\n",
       "      <td>11393.295210</td>\n",
       "      <td>0.000000</td>\n",
       "      <td>30.902347</td>\n",
       "      <td>231.545828</td>\n",
       "    </tr>\n",
       "    <tr>\n",
       "      <th rowspan=\"2\" valign=\"top\">Crafts</th>\n",
       "      <th>failed</th>\n",
       "      <td>12832.888799</td>\n",
       "      <td>365.217290</td>\n",
       "      <td>12483.091192</td>\n",
       "      <td>31.331669</td>\n",
       "      <td>6.145559</td>\n",
       "    </tr>\n",
       "    <tr>\n",
       "      <th>successful</th>\n",
       "      <td>3013.430794</td>\n",
       "      <td>5629.696889</td>\n",
       "      <td>0.000000</td>\n",
       "      <td>28.026950</td>\n",
       "      <td>94.148463</td>\n",
       "    </tr>\n",
       "    <tr>\n",
       "      <th rowspan=\"2\" valign=\"top\">Dance</th>\n",
       "      <th>failed</th>\n",
       "      <td>17876.666451</td>\n",
       "      <td>606.358538</td>\n",
       "      <td>17270.307913</td>\n",
       "      <td>34.150461</td>\n",
       "      <td>9.118524</td>\n",
       "    </tr>\n",
       "    <tr>\n",
       "      <th>successful</th>\n",
       "      <td>4603.151850</td>\n",
       "      <td>5195.512501</td>\n",
       "      <td>0.000000</td>\n",
       "      <td>30.799572</td>\n",
       "      <td>63.437259</td>\n",
       "    </tr>\n",
       "    <tr>\n",
       "      <th rowspan=\"2\" valign=\"top\">Design</th>\n",
       "      <th>failed</th>\n",
       "      <td>56736.055393</td>\n",
       "      <td>3410.480362</td>\n",
       "      <td>53608.801084</td>\n",
       "      <td>33.945685</td>\n",
       "      <td>36.577011</td>\n",
       "    </tr>\n",
       "    <tr>\n",
       "      <th>successful</th>\n",
       "      <td>15405.336224</td>\n",
       "      <td>62868.093223</td>\n",
       "      <td>0.011372</td>\n",
       "      <td>32.468892</td>\n",
       "      <td>614.749241</td>\n",
       "    </tr>\n",
       "    <tr>\n",
       "      <th rowspan=\"2\" valign=\"top\">Fashion</th>\n",
       "      <th>failed</th>\n",
       "      <td>26863.164801</td>\n",
       "      <td>962.479204</td>\n",
       "      <td>25921.993663</td>\n",
       "      <td>32.285976</td>\n",
       "      <td>10.717744</td>\n",
       "    </tr>\n",
       "    <tr>\n",
       "      <th>successful</th>\n",
       "      <td>9078.900459</td>\n",
       "      <td>20300.585451</td>\n",
       "      <td>0.000000</td>\n",
       "      <td>30.300663</td>\n",
       "      <td>217.137610</td>\n",
       "    </tr>\n",
       "    <tr>\n",
       "      <th rowspan=\"2\" valign=\"top\">Film &amp; Video</th>\n",
       "      <th>failed</th>\n",
       "      <td>122963.544680</td>\n",
       "      <td>1553.550754</td>\n",
       "      <td>121417.499493</td>\n",
       "      <td>35.992850</td>\n",
       "      <td>14.851209</td>\n",
       "    </tr>\n",
       "    <tr>\n",
       "      <th>successful</th>\n",
       "      <td>11146.293934</td>\n",
       "      <td>13953.517195</td>\n",
       "      <td>0.223752</td>\n",
       "      <td>31.310116</td>\n",
       "      <td>152.580810</td>\n",
       "    </tr>\n",
       "    <tr>\n",
       "      <th rowspan=\"2\" valign=\"top\">Food</th>\n",
       "      <th>failed</th>\n",
       "      <td>61739.026054</td>\n",
       "      <td>1069.045916</td>\n",
       "      <td>60688.183397</td>\n",
       "      <td>33.847368</td>\n",
       "      <td>12.478593</td>\n",
       "    </tr>\n",
       "    <tr>\n",
       "      <th>successful</th>\n",
       "      <td>11617.521260</td>\n",
       "      <td>17333.112604</td>\n",
       "      <td>0.000000</td>\n",
       "      <td>30.507733</td>\n",
       "      <td>180.397170</td>\n",
       "    </tr>\n",
       "    <tr>\n",
       "      <th rowspan=\"2\" valign=\"top\">Games</th>\n",
       "      <th>failed</th>\n",
       "      <td>62137.281073</td>\n",
       "      <td>2724.465094</td>\n",
       "      <td>59465.876058</td>\n",
       "      <td>32.969510</td>\n",
       "      <td>49.889261</td>\n",
       "    </tr>\n",
       "    <tr>\n",
       "      <th>successful</th>\n",
       "      <td>14858.339598</td>\n",
       "      <td>54232.765369</td>\n",
       "      <td>0.000000</td>\n",
       "      <td>28.912839</td>\n",
       "      <td>814.441639</td>\n",
       "    </tr>\n",
       "    <tr>\n",
       "      <th rowspan=\"2\" valign=\"top\">Journalism</th>\n",
       "      <th>failed</th>\n",
       "      <td>107919.249010</td>\n",
       "      <td>505.546187</td>\n",
       "      <td>107413.767821</td>\n",
       "      <td>34.209277</td>\n",
       "      <td>7.302859</td>\n",
       "    </tr>\n",
       "    <tr>\n",
       "      <th>successful</th>\n",
       "      <td>8174.584940</td>\n",
       "      <td>10378.739802</td>\n",
       "      <td>0.000000</td>\n",
       "      <td>31.033730</td>\n",
       "      <td>152.785714</td>\n",
       "    </tr>\n",
       "    <tr>\n",
       "      <th rowspan=\"2\" valign=\"top\">Music</th>\n",
       "      <th>failed</th>\n",
       "      <td>23686.482800</td>\n",
       "      <td>798.052072</td>\n",
       "      <td>22917.990292</td>\n",
       "      <td>35.720502</td>\n",
       "      <td>8.332896</td>\n",
       "    </tr>\n",
       "    <tr>\n",
       "      <th>successful</th>\n",
       "      <td>5732.792446</td>\n",
       "      <td>7330.857161</td>\n",
       "      <td>0.000000</td>\n",
       "      <td>32.876908</td>\n",
       "      <td>102.078794</td>\n",
       "    </tr>\n",
       "    <tr>\n",
       "      <th rowspan=\"2\" valign=\"top\">Photography</th>\n",
       "      <th>failed</th>\n",
       "      <td>14854.960804</td>\n",
       "      <td>654.510918</td>\n",
       "      <td>14204.916703</td>\n",
       "      <td>33.575990</td>\n",
       "      <td>9.034357</td>\n",
       "    </tr>\n",
       "    <tr>\n",
       "      <th>successful</th>\n",
       "      <td>6490.896736</td>\n",
       "      <td>10114.045250</td>\n",
       "      <td>0.000000</td>\n",
       "      <td>31.138359</td>\n",
       "      <td>108.757190</td>\n",
       "    </tr>\n",
       "    <tr>\n",
       "      <th rowspan=\"2\" valign=\"top\">Publishing</th>\n",
       "      <th>failed</th>\n",
       "      <td>33493.977016</td>\n",
       "      <td>614.744682</td>\n",
       "      <td>32880.355465</td>\n",
       "      <td>33.813485</td>\n",
       "      <td>9.728398</td>\n",
       "    </tr>\n",
       "    <tr>\n",
       "      <th>successful</th>\n",
       "      <td>5899.206055</td>\n",
       "      <td>9435.724044</td>\n",
       "      <td>0.000000</td>\n",
       "      <td>31.011061</td>\n",
       "      <td>158.837576</td>\n",
       "    </tr>\n",
       "    <tr>\n",
       "      <th rowspan=\"2\" valign=\"top\">Technology</th>\n",
       "      <th>failed</th>\n",
       "      <td>121875.014657</td>\n",
       "      <td>3304.149233</td>\n",
       "      <td>119050.155881</td>\n",
       "      <td>34.675864</td>\n",
       "      <td>26.945478</td>\n",
       "    </tr>\n",
       "    <tr>\n",
       "      <th>successful</th>\n",
       "      <td>26297.645929</td>\n",
       "      <td>93126.221154</td>\n",
       "      <td>0.000000</td>\n",
       "      <td>33.163738</td>\n",
       "      <td>717.947442</td>\n",
       "    </tr>\n",
       "    <tr>\n",
       "      <th rowspan=\"2\" valign=\"top\">Theater</th>\n",
       "      <th>failed</th>\n",
       "      <td>60290.101945</td>\n",
       "      <td>1040.263068</td>\n",
       "      <td>59250.041490</td>\n",
       "      <td>35.580273</td>\n",
       "      <td>11.921691</td>\n",
       "    </tr>\n",
       "    <tr>\n",
       "      <th>successful</th>\n",
       "      <td>5190.205529</td>\n",
       "      <td>5963.480871</td>\n",
       "      <td>0.000000</td>\n",
       "      <td>30.615373</td>\n",
       "      <td>70.422753</td>\n",
       "    </tr>\n",
       "  </tbody>\n",
       "</table>\n",
       "</div>"
      ],
      "text/plain": [
       "                                  Goal       Pledged  Amount_Missed  \\\n",
       "Category     Outcome                                                  \n",
       "Art          failed       63887.050373    606.664164   63282.724397   \n",
       "             successful    4411.767481   6974.563004       0.000057   \n",
       "Comics       failed       36739.180270    985.646074   35759.018730   \n",
       "             successful    5400.554365  11393.295210       0.000000   \n",
       "Crafts       failed       12832.888799    365.217290   12483.091192   \n",
       "             successful    3013.430794   5629.696889       0.000000   \n",
       "Dance        failed       17876.666451    606.358538   17270.307913   \n",
       "             successful    4603.151850   5195.512501       0.000000   \n",
       "Design       failed       56736.055393   3410.480362   53608.801084   \n",
       "             successful   15405.336224  62868.093223       0.011372   \n",
       "Fashion      failed       26863.164801    962.479204   25921.993663   \n",
       "             successful    9078.900459  20300.585451       0.000000   \n",
       "Film & Video failed      122963.544680   1553.550754  121417.499493   \n",
       "             successful   11146.293934  13953.517195       0.223752   \n",
       "Food         failed       61739.026054   1069.045916   60688.183397   \n",
       "             successful   11617.521260  17333.112604       0.000000   \n",
       "Games        failed       62137.281073   2724.465094   59465.876058   \n",
       "             successful   14858.339598  54232.765369       0.000000   \n",
       "Journalism   failed      107919.249010    505.546187  107413.767821   \n",
       "             successful    8174.584940  10378.739802       0.000000   \n",
       "Music        failed       23686.482800    798.052072   22917.990292   \n",
       "             successful    5732.792446   7330.857161       0.000000   \n",
       "Photography  failed       14854.960804    654.510918   14204.916703   \n",
       "             successful    6490.896736  10114.045250       0.000000   \n",
       "Publishing   failed       33493.977016    614.744682   32880.355465   \n",
       "             successful    5899.206055   9435.724044       0.000000   \n",
       "Technology   failed      121875.014657   3304.149233  119050.155881   \n",
       "             successful   26297.645929  93126.221154       0.000000   \n",
       "Theater      failed       60290.101945   1040.263068   59250.041490   \n",
       "             successful    5190.205529   5963.480871       0.000000   \n",
       "\n",
       "                         Duration_Days     Backers  \n",
       "Category     Outcome                                \n",
       "Art          failed          33.156248    8.632723  \n",
       "             successful      29.338666   90.378141  \n",
       "Comics       failed          35.756900   20.881415  \n",
       "             successful      30.902347  231.545828  \n",
       "Crafts       failed          31.331669    6.145559  \n",
       "             successful      28.026950   94.148463  \n",
       "Dance        failed          34.150461    9.118524  \n",
       "             successful      30.799572   63.437259  \n",
       "Design       failed          33.945685   36.577011  \n",
       "             successful      32.468892  614.749241  \n",
       "Fashion      failed          32.285976   10.717744  \n",
       "             successful      30.300663  217.137610  \n",
       "Film & Video failed          35.992850   14.851209  \n",
       "             successful      31.310116  152.580810  \n",
       "Food         failed          33.847368   12.478593  \n",
       "             successful      30.507733  180.397170  \n",
       "Games        failed          32.969510   49.889261  \n",
       "             successful      28.912839  814.441639  \n",
       "Journalism   failed          34.209277    7.302859  \n",
       "             successful      31.033730  152.785714  \n",
       "Music        failed          35.720502    8.332896  \n",
       "             successful      32.876908  102.078794  \n",
       "Photography  failed          33.575990    9.034357  \n",
       "             successful      31.138359  108.757190  \n",
       "Publishing   failed          33.813485    9.728398  \n",
       "             successful      31.011061  158.837576  \n",
       "Technology   failed          34.675864   26.945478  \n",
       "             successful      33.163738  717.947442  \n",
       "Theater      failed          35.580273   11.921691  \n",
       "             successful      30.615373   70.422753  "
      ]
     },
     "execution_count": 12,
     "metadata": {},
     "output_type": "execute_result"
    }
   ],
   "source": [
    "df1.groupby(['Category','Outcome'])[['Goal','Pledged','Amount_Missed','Duration_Days', 'Backers']].mean()"
   ]
  },
  {
   "cell_type": "markdown",
   "metadata": {},
   "source": [
    "### 3.4 Data Exploration Visuals"
   ]
  },
  {
   "cell_type": "markdown",
   "metadata": {},
   "source": [
    "---"
   ]
  },
  {
   "cell_type": "code",
   "execution_count": 31,
   "metadata": {
    "scrolled": false
   },
   "outputs": [
    {
     "data": {
      "image/png": "[encoded data removed]",
      "text/plain": [
       "<matplotlib.figure.Figure at 0x11218e6d0>"
      ]
     },
     "metadata": {},
     "output_type": "display_data"
    },
    {
     "data": {
      "image/png": "[encoded data removed]",
      "text/plain": [
       "<matplotlib.figure.Figure at 0x113b35bd0>"
      ]
     },
     "metadata": {},
     "output_type": "display_data"
    },
    {
     "data": {
      "image/png": "[encoded data removed]",
      "text/plain": [
       "<matplotlib.figure.Figure at 0x110f97b90>"
      ]
     },
     "metadata": {},
     "output_type": "display_data"
    },
    {
     "data": {
      "image/png": "[encoded data removed]",
      "text/plain": [
       "<matplotlib.figure.Figure at 0x11435af50>"
      ]
     },
     "metadata": {},
     "output_type": "display_data"
    },
    {
     "data": {
      "image/png": "[encoded data removed]",
      "text/plain": [
       "<matplotlib.figure.Figure at 0x113c37c50>"
      ]
     },
     "metadata": {},
     "output_type": "display_data"
    }
   ],
   "source": [
    "sns.set(style='darkgrid')\n",
    "#Heatmap of correlation Matrix\n",
    "corr_matrix=df1.corr()\n",
    "table1=sns.heatmap(corr_matrix,annot=True, linewidth=.5,cmap='PuOr');\n",
    "#Bar Graph Comparing Pledged/Goal\n",
    "table4=pd.DataFrame(df1.groupby(\"Category\")[\"Pledged\",\"Goal\"].mean()).reset_index().plot(kind='bar',x = 'Category');\n",
    "#Stacked Percentage Bar Graph of Outcome by Category\n",
    "table3=pd.crosstab(df1.Category,df1.Outcome)\n",
    "table3.div(table3.sum(1).astype(float), axis=0).plot(kind='bar',stacked=True),plt.title('Outcome by Category')\\\n",
    ",plt.xlabel('Category'),plt.ylabel('Success Rate'),plt.legend(loc = 'outside upper right', frameon=True)\n",
    "#Records/Year\n",
    "table5=pd.crosstab(df1.Year,df1.Outcome).plot(kind='Bar'),plt.title('Outcome by Year'),plt.ylabel('Number of Projects')\n",
    "#Violin of Outcome by Category\n",
    "sns.set_style('ticks')\n",
    "fig, ax = plt.subplots()\n",
    "fig.set_size_inches(14,9)\n",
    "sns.violinplot(y='Year', x='Category', hue='Outcome', data=data,split=True)\n",
    "sns.despine()"
   ]
  },
  {
   "cell_type": "markdown",
   "metadata": {},
   "source": [
    "---"
   ]
  },
  {
   "cell_type": "markdown",
   "metadata": {},
   "source": [
    "# Section 4: Comparing Predictive Models"
   ]
  },
  {
   "cell_type": "markdown",
   "metadata": {},
   "source": [
    "---"
   ]
  },
  {
   "cell_type": "markdown",
   "metadata": {},
   "source": [
    "### 4.1: Importing tools"
   ]
  },
  {
   "cell_type": "markdown",
   "metadata": {},
   "source": [
    "---"
   ]
  },
  {
   "cell_type": "code",
   "execution_count": 14,
   "metadata": {},
   "outputs": [],
   "source": [
    "import pandas\n",
    "import matplotlib.pyplot as plt\n",
    "from sklearn import model_selection\n",
    "from sklearn.linear_model import LogisticRegression\n",
    "from sklearn.tree import DecisionTreeClassifier\n",
    "from sklearn.neighbors import KNeighborsClassifier\n",
    "from sklearn.discriminant_analysis import LinearDiscriminantAnalysis\n",
    "from sklearn.ensemble import RandomForestClassifier\n",
    "from sklearn.model_selection import train_test_split\n",
    "from sklearn.datasets import make_classification\n",
    "from sklearn.naive_bayes import GaussianNB\n",
    "from sklearn.svm import SVC\n",
    "from sklearn import metrics\n",
    "import statsmodels.api as sm\n",
    "import datetime as dt\n",
    "import seaborn as sns\n",
    "import matplotlib.pyplot as plt\n",
    "%matplotlib inline"
   ]
  },
  {
   "cell_type": "markdown",
   "metadata": {},
   "source": [
    "### 4.2: Dummy Variables"
   ]
  },
  {
   "cell_type": "markdown",
   "metadata": {},
   "source": [
    "---"
   ]
  },
  {
   "cell_type": "code",
   "execution_count": 15,
   "metadata": {},
   "outputs": [],
   "source": [
    "#Creating a new dataframe, creating dummy variables, then dropping unusable columns\n",
    "df=data \n",
    "dummy_Category = pd.get_dummies(df['Category'],prefix='Category')\n",
    "dummy_Country = pd.get_dummies(df['Country'],prefix='Country')\n",
    "dummy_Outcome = pd.get_dummies(df['Outcome'],prefix='Outcome', drop_first = True)\n",
    "df_new = pd.concat([df, dummy_Category, dummy_Country, dummy_Outcome], axis=1)\n",
    "df_new = df_new.drop([\"SubCategory\",'Country','Category','Outcome','Amount_Missed', 'Backers', 'Pledged', 'Duration_Days','Year'], axis = 1)\n",
    "\n",
    "#Converting Deadline and Launch date to ordinal\n",
    "df_new['Deadline'] = pd.to_datetime(df_new['Deadline'])\n",
    "df_new['Deadline']=df_new['Deadline'].map(dt.datetime.toordinal)\n",
    "df_new['Launched_Date'] = pd.to_datetime(df_new['Launched_Date'])\n",
    "df_new['Launched_Date']=df_new['Launched_Date'].map(dt.datetime.toordinal)\n",
    "\n",
    "#Converted goal type to int.\n",
    "df_new.Goal = df_new.Goal.astype(int)\n"
   ]
  },
  {
   "cell_type": "markdown",
   "metadata": {},
   "source": [
    "### 4.3: Train/Test"
   ]
  },
  {
   "cell_type": "markdown",
   "metadata": {},
   "source": [
    "---"
   ]
  },
  {
   "cell_type": "code",
   "execution_count": 16,
   "metadata": {},
   "outputs": [
    {
     "name": "stdout",
     "output_type": "stream",
     "text": [
      "(300296, 41) (300296,)\n",
      "(75075, 41) (75075,)\n"
     ]
    }
   ],
   "source": [
    "#Created Train/Test\n",
    "y = df_new.Outcome_successful\n",
    "X = df_new.drop('Outcome_successful', 1)\n",
    "X_train, X_test, y_train, y_test = train_test_split(X, y, test_size=0.2, random_state=0)\n",
    "print X_train.shape, y_train.shape\n",
    "print X_test.shape, y_test.shape"
   ]
  },
  {
   "cell_type": "markdown",
   "metadata": {},
   "source": [
    "### 4.4 Modeling "
   ]
  },
  {
   "cell_type": "markdown",
   "metadata": {},
   "source": [
    "---"
   ]
  },
  {
   "cell_type": "markdown",
   "metadata": {},
   "source": [
    "Running a 10 fold cross validation analysis with Logistic Regression, Kneighbors, Decision Tree and Random Forest. This avoids overfitting while still producing a prediction.\n",
    "\n"
   ]
  },
  {
   "cell_type": "code",
   "execution_count": 17,
   "metadata": {},
   "outputs": [
    {
     "name": "stdout",
     "output_type": "stream",
     "text": [
      "LR: 0.643366 (0.002538)\n",
      "KNN: 0.625016 (0.001610)\n",
      "DT: 0.606120 (0.001519)\n",
      "RF: 0.642916 (0.001315)\n"
     ]
    },
    {
     "data": {
      "text/plain": [
       "<function matplotlib.pyplot.show>"
      ]
     },
     "execution_count": 17,
     "metadata": {},
     "output_type": "execute_result"
    },
    {
     "data": {
      "image/png": "[encoded data removed]",
      "text/plain": [
       "<matplotlib.figure.Figure at 0x107d60450>"
      ]
     },
     "metadata": {},
     "output_type": "display_data"
    }
   ],
   "source": [
    "#Input random state\n",
    "seed = 0 \n",
    "#Organizing and selecting all models\n",
    "models = []\n",
    "models.append(('LR', LogisticRegression()))\n",
    "models.append(('KNN', KNeighborsClassifier()))\n",
    "models.append(('DT', DecisionTreeClassifier()))\n",
    "models.append(('RF', RandomForestClassifier()))\n",
    "#Evaluation of each model ran\n",
    "results = []\n",
    "names = []\n",
    "scoring = 'accuracy'\n",
    "for name, model in models:\n",
    "    kfold = model_selection.KFold(n_splits=10, random_state=seed)\n",
    "    cv_results = model_selection.cross_val_score(model, X, y, cv=kfold, scoring=scoring)\n",
    "    results.append(cv_results)\n",
    "    names.append(name)\n",
    "    msg = \"%s: %f (%f)\" % (name, cv_results.mean(), cv_results.std())\n",
    "    print(msg)\n",
    "#Comparing all models in a Box Chart\n",
    "fig = plt.figure()\n",
    "fig.suptitle('Model Comparison')\n",
    "ax = fig.add_subplot(111)\n",
    "plt.boxplot(results)\n",
    "ax.set_xticklabels(names)\n",
    "plt.show"
   ]
  },
  {
   "cell_type": "markdown",
   "metadata": {},
   "source": [
    "---"
   ]
  },
  {
   "cell_type": "markdown",
   "metadata": {},
   "source": [
    "# Section 5: Logistic Regression Model"
   ]
  },
  {
   "cell_type": "markdown",
   "metadata": {},
   "source": [
    "---"
   ]
  },
  {
   "cell_type": "markdown",
   "metadata": {},
   "source": [
    "### 5.1 Importing tools"
   ]
  },
  {
   "cell_type": "markdown",
   "metadata": {},
   "source": [
    "---"
   ]
  },
  {
   "cell_type": "code",
   "execution_count": 18,
   "metadata": {},
   "outputs": [],
   "source": [
    "from sklearn.metrics import confusion_matrix\n",
    "from sklearn.metrics import classification_report\n",
    "from sklearn.metrics import roc_auc_score\n",
    "from sklearn.linear_model import LogisticRegression\n",
    "from sklearn.metrics import roc_curve"
   ]
  },
  {
   "cell_type": "markdown",
   "metadata": {},
   "source": [
    "### 5.2 Testing Logistic Regression Model"
   ]
  },
  {
   "cell_type": "markdown",
   "metadata": {},
   "source": [
    "---"
   ]
  },
  {
   "cell_type": "code",
   "execution_count": 19,
   "metadata": {},
   "outputs": [
    {
     "data": {
      "text/plain": [
       "LogisticRegression(C=1.0, class_weight=None, dual=False, fit_intercept=True,\n",
       "          intercept_scaling=1, max_iter=100, multi_class='ovr', n_jobs=1,\n",
       "          penalty='l2', random_state=None, solver='liblinear', tol=0.0001,\n",
       "          verbose=0, warm_start=False)"
      ]
     },
     "execution_count": 19,
     "metadata": {},
     "output_type": "execute_result"
    }
   ],
   "source": [
    "logreg = LogisticRegression()\n",
    "logreg.fit(X_train,y_train)"
   ]
  },
  {
   "cell_type": "code",
   "execution_count": 20,
   "metadata": {},
   "outputs": [
    {
     "name": "stdout",
     "output_type": "stream",
     "text": [
      "Accuracy of logistic regression classifier on test set: 0.64\n"
     ]
    }
   ],
   "source": [
    "y_pred = logreg.predict(X_test)\n",
    "print ('Accuracy of logistic regression classifier on test set: {:.2f}'.format(logreg.score(X_test,y_test)))"
   ]
  },
  {
   "cell_type": "code",
   "execution_count": 21,
   "metadata": {
    "scrolled": true
   },
   "outputs": [
    {
     "name": "stdout",
     "output_type": "stream",
     "text": [
      "[[48131     0]\n",
      " [26944     0]]\n"
     ]
    }
   ],
   "source": [
    "confusion_matrix = confusion_matrix(y_test,y_pred)\n",
    "print (confusion_matrix)"
   ]
  },
  {
   "cell_type": "markdown",
   "metadata": {},
   "source": [
    "We have 48,131 correct predicitons and 26,944 incorrect predictions"
   ]
  },
  {
   "cell_type": "code",
   "execution_count": 22,
   "metadata": {},
   "outputs": [
    {
     "name": "stdout",
     "output_type": "stream",
     "text": [
      "             precision    recall  f1-score   support\n",
      "\n",
      "          0       0.64      1.00      0.78     48131\n",
      "          1       0.00      0.00      0.00     26944\n",
      "\n",
      "avg / total       0.41      0.64      0.50     75075\n",
      "\n"
     ]
    }
   ],
   "source": [
    "print(classification_report(y_test,y_pred))"
   ]
  },
  {
   "cell_type": "markdown",
   "metadata": {},
   "source": [
    "The model has a good recall, but not so great precision."
   ]
  },
  {
   "cell_type": "markdown",
   "metadata": {},
   "source": [
    "### 5.3 ROC Curve"
   ]
  },
  {
   "cell_type": "markdown",
   "metadata": {},
   "source": [
    "---"
   ]
  },
  {
   "cell_type": "code",
   "execution_count": 24,
   "metadata": {},
   "outputs": [
    {
     "data": {
      "image/png": "[encoded data removed]",
      "text/plain": [
       "<matplotlib.figure.Figure at 0x112069f50>"
      ]
     },
     "metadata": {},
     "output_type": "display_data"
    }
   ],
   "source": [
    "#Operating Characteristics of Model\n",
    "logit_roc_auc = roc_auc_score(y_test, logreg.predict(X_test))\n",
    "fpr, tpr, thresholds = roc_curve(y_test, logreg.predict_proba(X_test)[:,1])\n",
    "plt.figure()\n",
    "plt.plot(fpr, tpr, label='Logistic Regression (area = %0.2f)' % logit_roc_auc)\n",
    "plt.plot([0, 1], [0, 1],'r--')\n",
    "plt.xlim([0.0, 1.0])\n",
    "plt.ylim([0.0, 1.05])\n",
    "plt.xlabel('False Positive Rate')\n",
    "plt.ylabel('True Positive Rate')\n",
    "plt.title('Operating characteristic')\n",
    "plt.legend(loc=\"Upper right\")\n",
    "plt.show()"
   ]
  },
  {
   "cell_type": "code",
   "execution_count": null,
   "metadata": {},
   "outputs": [],
   "source": []
  }
 ],
 "metadata": {
  "kernelspec": {
   "display_name": "Python 2",
   "language": "python",
   "name": "python2"
  },
  "language_info": {
   "codemirror_mode": {
    "name": "ipython",
    "version": 2
   },
   "file_extension": ".py",
   "mimetype": "text/x-python",
   "name": "python",
   "nbconvert_exporter": "python",
   "pygments_lexer": "ipython2",
   "version": "2.7.15"
  }
 },
 "nbformat": 4,
 "nbformat_minor": 2
}
