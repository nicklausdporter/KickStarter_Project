{
 "cells": [
  {
   "cell_type": "markdown",
   "metadata": {},
   "source": [
    "# Kick Starter Analysis \n",
    "Nicklaus Porter"
   ]
  },
  {
   "cell_type": "markdown",
   "metadata": {},
   "source": [
    "---"
   ]
  },
  {
   "cell_type": "markdown",
   "metadata": {},
   "source": [
    "# Index: \n",
    "#Section 1: Welcome\n",
    "#Section 2: Data Cleaning and Molding(Preparing for Tableau)\n",
    "#Section 3: Viewing Totals and Averages\n",
    "#Secton 4: Testing Kick Starter Data"
   ]
  },
  {
   "cell_type": "markdown",
   "metadata": {},
   "source": [
    "---"
   ]
  },
  {
   "cell_type": "markdown",
   "metadata": {},
   "source": [
    "# Section 1: Welcome!\n",
    "\n",
    "My name is Nick. This is my first data project posted online. \n",
    "I first got this dataset at Kaggle.com. The data seemed fun to work with as it shows the outcomes of kickstart projects. After looking at it I wanted to analyze the data and determine if we could predict a kick starter projects outcome. In section 2 I sent the data to Tableau in order to create visualizations. In the other sections I was looking and testing the data."
   ]
  },
  {
   "cell_type": "markdown",
   "metadata": {},
   "source": [
    "---"
   ]
  },
  {
   "cell_type": "markdown",
   "metadata": {},
   "source": [
    "# Section 2: Data Cleaning and Molding(Preparing for Tableau)"
   ]
  },
  {
   "cell_type": "code",
   "execution_count": 1,
   "metadata": {},
   "outputs": [],
   "source": [
    "#Importing Data\n",
    "import pandas as pd\n",
    "import numpy as np \n",
    "from datetime import datetime\n",
    "import seaborn as sns\n",
    "import matplotlib.pyplot as plt\n",
    "%matplotlib inline\n",
    "date_format = \"%m/%d/%Y\"\n",
    "data = pd.read_csv(\"ks-projects-201801.csv\")"
   ]
  },
  {
   "cell_type": "code",
   "execution_count": 2,
   "metadata": {},
   "outputs": [],
   "source": [
    "#Cleaning initial columns \n",
    "data.columns = ['ID','Name', 'Category', 'Main_Category', 'Currency', 'Deadline','Goal', 'Launched', 'Pledged', 'State', 'Backers', 'Country','USD_Pledged', 'USD_Pledged_Real', 'USD_Goal_Real']\n",
    "data.USD_Pledged = data.USD_Pledged.fillna(0)\n",
    "data = data.dropna(how = 'any')\n",
    "#Changed the value type to Category \n",
    "data.Main_Category = data.Main_Category.astype('category')\n",
    "data.Category = data.Category.astype('category')\n",
    "\n"
   ]
  },
  {
   "cell_type": "code",
   "execution_count": 3,
   "metadata": {},
   "outputs": [],
   "source": [
    "#Created a new column based on the amount missed by \n",
    "result = data.USD_Goal_Real - data.USD_Pledged_Real\n",
    "data[\"Goal_Missed_AMT\"] = result\n",
    "#Turning the negative numbers created to 0. \n",
    "num = data._get_numeric_data()\n",
    "num[num < 0] = 0\n",
    "#Creating a new column that shows the length of each campaign\n",
    "data['Launched'] = pd.to_datetime(data['Launched'])\n",
    "data['Deadline'] = pd.to_datetime(data['Deadline'])\n",
    "result1 = data['Deadline'] - data['Launched']\n",
    "data['Campaign_Length_Days'] = result1\n",
    "data['Campaign_Length_Days'] = [i.days for i in data['Campaign_Length_Days']]\n"
   ]
  },
  {
   "cell_type": "code",
   "execution_count": 4,
   "metadata": {},
   "outputs": [],
   "source": [
    "#Creating a new column \"Outcome\" and making the results either Successful or failed\n",
    "data[\"Outcome\"] = data['State']\n",
    "data[\"Outcome\"] = data[\"Outcome\"].replace('canceled', 'failed').replace('suspended', 'failed').replace('undefined','failed')\n",
    "data = data[data.Outcome !='live']\n",
    "#Dropping and Final Renaming of Columns\n",
    "data = data.drop([\"ID\",\"Name\",\"State\",\"Goal\",\"USD_Pledged\",\"Pledged\",\"Currency\"], axis = 1)\n",
    "data.columns = ['SubCategory','Category', 'Deadline','Launched_Date','Backers','Country','Pledged','Goal','Amount_Missed','Duration_Days','Outcome']\n",
    "\n"
   ]
  },
  {
   "cell_type": "markdown",
   "metadata": {},
   "source": [
    "----"
   ]
  },
  {
   "cell_type": "markdown",
   "metadata": {},
   "source": [
    "# Section 3: Viewing Totals and Averages\n"
   ]
  },
  {
   "cell_type": "code",
   "execution_count": 5,
   "metadata": {},
   "outputs": [
    {
     "name": "stdout",
     "output_type": "stream",
     "text": [
      "Number of projects with backers is 320799\n",
      "Number of projects without backers is 55059\n"
     ]
    }
   ],
   "source": [
    "#data = data.sort_values('Main_Category')\n",
    "#Finding_data_for_Campaigns_with_backers\n",
    "Filter1 = data.Backers > 0 \n",
    "Filter2 = data.Backers == 0\n",
    "print \"Number of projects with backers is\",sum(Filter1)\n",
    "print \"Number of projects without backers is\", sum(Filter2)\n"
   ]
  },
  {
   "cell_type": "code",
   "execution_count": 6,
   "metadata": {},
   "outputs": [
    {
     "data": {
      "text/html": [
       "<div>\n",
       "<style scoped>\n",
       "    .dataframe tbody tr th:only-of-type {\n",
       "        vertical-align: middle;\n",
       "    }\n",
       "\n",
       "    .dataframe tbody tr th {\n",
       "        vertical-align: top;\n",
       "    }\n",
       "\n",
       "    .dataframe thead th {\n",
       "        text-align: right;\n",
       "    }\n",
       "</style>\n",
       "<table border=\"1\" class=\"dataframe\">\n",
       "  <thead>\n",
       "    <tr style=\"text-align: right;\">\n",
       "      <th></th>\n",
       "      <th>Amount_Missed</th>\n",
       "    </tr>\n",
       "    <tr>\n",
       "      <th>Outcome</th>\n",
       "      <th></th>\n",
       "    </tr>\n",
       "  </thead>\n",
       "  <tbody>\n",
       "    <tr>\n",
       "      <th>failed</th>\n",
       "      <td>63677.050683</td>\n",
       "    </tr>\n",
       "    <tr>\n",
       "      <th>successful</th>\n",
       "      <td>0.040348</td>\n",
       "    </tr>\n",
       "  </tbody>\n",
       "</table>\n",
       "</div>"
      ],
      "text/plain": [
       "            Amount_Missed\n",
       "Outcome                  \n",
       "failed       63677.050683\n",
       "successful       0.040348"
      ]
     },
     "execution_count": 6,
     "metadata": {},
     "output_type": "execute_result"
    }
   ],
   "source": [
    "data.groupby('Outcome')[['Amount_Missed']].mean()"
   ]
  },
  {
   "cell_type": "code",
   "execution_count": 7,
   "metadata": {},
   "outputs": [
    {
     "data": {
      "text/html": [
       "<div>\n",
       "<style scoped>\n",
       "    .dataframe tbody tr th:only-of-type {\n",
       "        vertical-align: middle;\n",
       "    }\n",
       "\n",
       "    .dataframe tbody tr th {\n",
       "        vertical-align: top;\n",
       "    }\n",
       "\n",
       "    .dataframe thead th {\n",
       "        text-align: right;\n",
       "    }\n",
       "</style>\n",
       "<table border=\"1\" class=\"dataframe\">\n",
       "  <thead>\n",
       "    <tr style=\"text-align: right;\">\n",
       "      <th></th>\n",
       "      <th>Pledged</th>\n",
       "    </tr>\n",
       "    <tr>\n",
       "      <th>Outcome</th>\n",
       "      <th></th>\n",
       "    </tr>\n",
       "  </thead>\n",
       "  <tbody>\n",
       "    <tr>\n",
       "      <th>failed</th>\n",
       "      <td>1558.249906</td>\n",
       "    </tr>\n",
       "    <tr>\n",
       "      <th>successful</th>\n",
       "      <td>22670.795231</td>\n",
       "    </tr>\n",
       "  </tbody>\n",
       "</table>\n",
       "</div>"
      ],
      "text/plain": [
       "                 Pledged\n",
       "Outcome                 \n",
       "failed       1558.249906\n",
       "successful  22670.795231"
      ]
     },
     "execution_count": 7,
     "metadata": {},
     "output_type": "execute_result"
    }
   ],
   "source": [
    "data.groupby('Outcome')[['Pledged']].mean()"
   ]
  },
  {
   "cell_type": "code",
   "execution_count": 8,
   "metadata": {},
   "outputs": [
    {
     "data": {
      "text/html": [
       "<div>\n",
       "<style scoped>\n",
       "    .dataframe tbody tr th:only-of-type {\n",
       "        vertical-align: middle;\n",
       "    }\n",
       "\n",
       "    .dataframe tbody tr th {\n",
       "        vertical-align: top;\n",
       "    }\n",
       "\n",
       "    .dataframe thead th {\n",
       "        text-align: right;\n",
       "    }\n",
       "</style>\n",
       "<table border=\"1\" class=\"dataframe\">\n",
       "  <thead>\n",
       "    <tr style=\"text-align: right;\">\n",
       "      <th></th>\n",
       "      <th>Duration_Days</th>\n",
       "    </tr>\n",
       "    <tr>\n",
       "      <th>Outcome</th>\n",
       "      <th></th>\n",
       "    </tr>\n",
       "  </thead>\n",
       "  <tbody>\n",
       "    <tr>\n",
       "      <th>failed</th>\n",
       "      <td>34.706828</td>\n",
       "    </tr>\n",
       "    <tr>\n",
       "      <th>successful</th>\n",
       "      <td>31.156469</td>\n",
       "    </tr>\n",
       "  </tbody>\n",
       "</table>\n",
       "</div>"
      ],
      "text/plain": [
       "            Duration_Days\n",
       "Outcome                  \n",
       "failed          34.706828\n",
       "successful      31.156469"
      ]
     },
     "execution_count": 8,
     "metadata": {},
     "output_type": "execute_result"
    }
   ],
   "source": [
    "data.groupby('Outcome')[['Duration_Days']].mean()"
   ]
  },
  {
   "cell_type": "code",
   "execution_count": 9,
   "metadata": {},
   "outputs": [
    {
     "data": {
      "text/html": [
       "<div>\n",
       "<style scoped>\n",
       "    .dataframe tbody tr th:only-of-type {\n",
       "        vertical-align: middle;\n",
       "    }\n",
       "\n",
       "    .dataframe tbody tr th {\n",
       "        vertical-align: top;\n",
       "    }\n",
       "\n",
       "    .dataframe thead th {\n",
       "        text-align: right;\n",
       "    }\n",
       "</style>\n",
       "<table border=\"1\" class=\"dataframe\">\n",
       "  <thead>\n",
       "    <tr style=\"text-align: right;\">\n",
       "      <th></th>\n",
       "      <th>Backers</th>\n",
       "    </tr>\n",
       "    <tr>\n",
       "      <th>Outcome</th>\n",
       "      <th></th>\n",
       "    </tr>\n",
       "  </thead>\n",
       "  <tbody>\n",
       "    <tr>\n",
       "      <th>failed</th>\n",
       "      <td>18.390671</td>\n",
       "    </tr>\n",
       "    <tr>\n",
       "      <th>successful</th>\n",
       "      <td>263.921362</td>\n",
       "    </tr>\n",
       "  </tbody>\n",
       "</table>\n",
       "</div>"
      ],
      "text/plain": [
       "               Backers\n",
       "Outcome               \n",
       "failed       18.390671\n",
       "successful  263.921362"
      ]
     },
     "execution_count": 9,
     "metadata": {},
     "output_type": "execute_result"
    }
   ],
   "source": [
    "data.groupby('Outcome')[['Backers']].mean()"
   ]
  },
  {
   "cell_type": "markdown",
   "metadata": {},
   "source": [
    "---"
   ]
  },
  {
   "cell_type": "markdown",
   "metadata": {},
   "source": [
    "# Section 4: Testing Kick Starter Data"
   ]
  },
  {
   "cell_type": "code",
   "execution_count": 10,
   "metadata": {},
   "outputs": [],
   "source": [
    "#Importing Tools\n",
    "import pandas\n",
    "import matplotlib.pyplot as plt\n",
    "from sklearn import model_selection\n",
    "from sklearn.linear_model import LogisticRegression\n",
    "from sklearn.tree import DecisionTreeClassifier\n",
    "from sklearn.neighbors import KNeighborsClassifier\n",
    "from sklearn.discriminant_analysis import LinearDiscriminantAnalysis\n",
    "from sklearn.ensemble import RandomForestClassifier\n",
    "from sklearn.model_selection import train_test_split\n",
    "from sklearn.datasets import make_classification\n",
    "from sklearn.naive_bayes import GaussianNB\n",
    "from sklearn.svm import SVC\n",
    "import datetime as dt"
   ]
  },
  {
   "cell_type": "code",
   "execution_count": 11,
   "metadata": {},
   "outputs": [],
   "source": [
    "#Creating a new df and then Creating dummy Varibles\n",
    "df=data #wanted to preserve the df I cleaned so I could work with it in Tableau or later\n",
    "dummy_Category = pd.get_dummies(df['Category'],prefix='Category')\n",
    "dummy_Country = pd.get_dummies(df['Country'],prefix='Country')\n",
    "dummy_Outcome = pd.get_dummies(df['Outcome'],prefix='Outcome', drop_first = True)\n",
    "df_new = pd.concat([df, dummy_Category, dummy_Country, dummy_Outcome], axis=1)\n",
    "df_new = df_new.drop([\"SubCategory\",'Country','Category','Outcome','Amount_Missed', 'Backers', 'Pledged', 'Duration_Days'], axis = 1)\n",
    "\n",
    "#Converting Deadline and Launched_Date to different values\n",
    "df_new['Deadline'] = pd.to_datetime(df_new['Deadline'])\n",
    "df_new['Deadline']=df_new['Deadline'].map(dt.datetime.toordinal)\n",
    "df_new['Launched_Date'] = pd.to_datetime(df_new['Launched_Date'])\n",
    "df_new['Launched_Date']=df_new['Launched_Date'].map(dt.datetime.toordinal)\n",
    "\n",
    "#Changed Goal to integer\n",
    "df_new.Goal = df_new.Goal.astype(int)"
   ]
  },
  {
   "cell_type": "code",
   "execution_count": 12,
   "metadata": {},
   "outputs": [
    {
     "name": "stdout",
     "output_type": "stream",
     "text": [
      "(300686, 41) (300686,)\n",
      "(75172, 41) (75172,)\n"
     ]
    }
   ],
   "source": [
    "#Creating Train and Test\n",
    "y = df_new.Outcome_successful\n",
    "X = df_new.drop('Outcome_successful', 1)\n",
    "X_train, X_test, y_train, y_test = train_test_split(X, y, test_size=0.2, random_state=0)\n",
    "print X_train.shape, y_train.shape\n",
    "print X_test.shape, y_test.shape"
   ]
  },
  {
   "cell_type": "code",
   "execution_count": 13,
   "metadata": {},
   "outputs": [
    {
     "name": "stdout",
     "output_type": "stream",
     "text": [
      "LR: 0.643599 (0.002560)\n",
      "KNN: 0.625526 (0.001654)\n",
      "DT: 0.606264 (0.002027)\n",
      "RF: 0.642530 (0.001857)\n"
     ]
    },
    {
     "data": {
      "text/plain": [
       "<function matplotlib.pyplot.show>"
      ]
     },
     "execution_count": 13,
     "metadata": {},
     "output_type": "execute_result"
    },
    {
     "data": {
      "image/png": "[encoded data removed]",
      "text/plain": [
       "<matplotlib.figure.Figure at 0x1a16af8d50>"
      ]
     },
     "metadata": {},
     "output_type": "display_data"
    }
   ],
   "source": [
    "#Running Analysis with Logistic Regression, KNeighbors, Decision Tree, and Random Forest\n",
    "\n",
    "seed = 0 #allows me to change value of non-random items inputed \n",
    "#Code that runs all the models I want at once\n",
    "models = []\n",
    "models.append(('LR', LogisticRegression()))\n",
    "models.append(('KNN', KNeighborsClassifier()))\n",
    "models.append(('DT', DecisionTreeClassifier()))\n",
    "models.append(('RF', RandomForestClassifier()))\n",
    "#Evaluation each of the models that were run\n",
    "results = []\n",
    "names = []\n",
    "scoring = 'accuracy'\n",
    "for name, model in models:\n",
    "    kfold = model_selection.KFold(n_splits=10, random_state=seed)\n",
    "    cv_results = model_selection.cross_val_score(model, X, y, cv=kfold, scoring=scoring)\n",
    "    results.append(cv_results)\n",
    "    names.append(name)\n",
    "    msg = \"%s: %f (%f)\" % (name, cv_results.mean(), cv_results.std())\n",
    "    print(msg)\n",
    "#Plotting Comparisons on a Box plot\n",
    "fig = plt.figure()\n",
    "fig.suptitle('Model Comparison')\n",
    "ax = fig.add_subplot(111)\n",
    "plt.boxplot(results)\n",
    "ax.set_xticklabels(names)\n",
    "plt.show"
   ]
  }
 ],
 "metadata": {
  "kernelspec": {
   "display_name": "Python 2",
   "language": "python",
   "name": "python2"
  },
  "language_info": {
   "codemirror_mode": {
    "name": "ipython",
    "version": 2
   },
   "file_extension": ".py",
   "mimetype": "text/x-python",
   "name": "python",
   "nbconvert_exporter": "python",
   "pygments_lexer": "ipython2",
   "version": "2.7.15"
  }
 },
 "nbformat": 4,
 "nbformat_minor": 2
}
